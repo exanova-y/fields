{
 "cells": [
  {
   "cell_type": "code",
   "execution_count": 1,
   "metadata": {},
   "outputs": [],
   "source": [
    "sensor_coordinates = {\"A\":(0, 0), \"B\":(4, 0), \"C\":(0, 4), \"D\":(4, 4)}"
   ]
  },
  {
   "cell_type": "code",
   "execution_count": 7,
   "metadata": {},
   "outputs": [],
   "source": [
    "import os\n",
    "import csv\n"
   ]
  },
  {
   "cell_type": "code",
   "execution_count": 9,
   "metadata": {},
   "outputs": [],
   "source": [
    "all_data = {}\n",
    "folder_path = \"data\"\n",
    "\n",
    "\n",
    "# Define file paths for each sensor\n",
    "sensor_files = {\n",
    "    \"A\": \"lavender-a.txt\",  # Sensor at (0,0)\n",
    "    \"B\": \"lemongrass-b.txt\",  # Sensor at (4,0)\n",
    "    \"C\": \"orange-c.txt\",      # Sensor at (0,4)\n",
    "    \"D\": \"street-air-d.txt\",  # Using the same data for D as a placeholder\n",
    "}"
   ]
  },
  {
   "cell_type": "code",
   "execution_count": 11,
   "metadata": {},
   "outputs": [
    {
     "ename": "FileNotFoundError",
     "evalue": "[Errno 2] No such file or directory: 'data/lavender-a.txt'",
     "output_type": "error",
     "traceback": [
      "\u001b[31m---------------------------------------------------------------------------\u001b[39m",
      "\u001b[31mFileNotFoundError\u001b[39m                         Traceback (most recent call last)",
      "\u001b[36mCell\u001b[39m\u001b[36m \u001b[39m\u001b[32mIn[11]\u001b[39m\u001b[32m, line 5\u001b[39m\n\u001b[32m      2\u001b[39m sensor_id = \u001b[33m\"\u001b[39m\u001b[33mA\u001b[39m\u001b[33m\"\u001b[39m\n\u001b[32m      3\u001b[39m filepath = os.path.join(folder_path, sensor_files[sensor_id])\n\u001b[32m----> \u001b[39m\u001b[32m5\u001b[39m \u001b[38;5;28;01mwith\u001b[39;00m \u001b[38;5;28;43mopen\u001b[39;49m\u001b[43m(\u001b[49m\u001b[43mfilepath\u001b[49m\u001b[43m,\u001b[49m\u001b[43m \u001b[49m\u001b[33;43m'\u001b[39;49m\u001b[33;43mr\u001b[39;49m\u001b[33;43m'\u001b[39;49m\u001b[43m)\u001b[49m \u001b[38;5;28;01mas\u001b[39;00m f:\n\u001b[32m      6\u001b[39m     lines = f.readlines()\n\u001b[32m      7\u001b[39m     lines = [line.strip() \u001b[38;5;28;01mfor\u001b[39;00m line \u001b[38;5;129;01min\u001b[39;00m lines \u001b[38;5;28;01mif\u001b[39;00m line.strip()]\n",
      "\u001b[36mFile \u001b[39m\u001b[32m~/topos/fields/.venv/lib/python3.13/site-packages/IPython/core/interactiveshell.py:326\u001b[39m, in \u001b[36m_modified_open\u001b[39m\u001b[34m(file, *args, **kwargs)\u001b[39m\n\u001b[32m    319\u001b[39m \u001b[38;5;28;01mif\u001b[39;00m file \u001b[38;5;129;01min\u001b[39;00m {\u001b[32m0\u001b[39m, \u001b[32m1\u001b[39m, \u001b[32m2\u001b[39m}:\n\u001b[32m    320\u001b[39m     \u001b[38;5;28;01mraise\u001b[39;00m \u001b[38;5;167;01mValueError\u001b[39;00m(\n\u001b[32m    321\u001b[39m         \u001b[33mf\u001b[39m\u001b[33m\"\u001b[39m\u001b[33mIPython won\u001b[39m\u001b[33m'\u001b[39m\u001b[33mt let you open fd=\u001b[39m\u001b[38;5;132;01m{\u001b[39;00mfile\u001b[38;5;132;01m}\u001b[39;00m\u001b[33m by default \u001b[39m\u001b[33m\"\u001b[39m\n\u001b[32m    322\u001b[39m         \u001b[33m\"\u001b[39m\u001b[33mas it is likely to crash IPython. If you know what you are doing, \u001b[39m\u001b[33m\"\u001b[39m\n\u001b[32m    323\u001b[39m         \u001b[33m\"\u001b[39m\u001b[33myou can use builtins\u001b[39m\u001b[33m'\u001b[39m\u001b[33m open.\u001b[39m\u001b[33m\"\u001b[39m\n\u001b[32m    324\u001b[39m     )\n\u001b[32m--> \u001b[39m\u001b[32m326\u001b[39m \u001b[38;5;28;01mreturn\u001b[39;00m \u001b[43mio_open\u001b[49m\u001b[43m(\u001b[49m\u001b[43mfile\u001b[49m\u001b[43m,\u001b[49m\u001b[43m \u001b[49m\u001b[43m*\u001b[49m\u001b[43margs\u001b[49m\u001b[43m,\u001b[49m\u001b[43m \u001b[49m\u001b[43m*\u001b[49m\u001b[43m*\u001b[49m\u001b[43mkwargs\u001b[49m\u001b[43m)\u001b[49m\n",
      "\u001b[31mFileNotFoundError\u001b[39m: [Errno 2] No such file or directory: 'data/lavender-a.txt'"
     ]
    }
   ],
   "source": [
    "#for sensor_id, coord in sensor_coordinates.items():\n",
    "sensor_id = \"A\"\n",
    "filepath = os.path.join(folder_path, sensor_files[sensor_id])\n",
    "\n",
    "with open(filepath, 'r') as f:\n",
    "    lines = f.readlines()\n",
    "    lines = [line.strip() for line in lines if line.strip()]\n",
    "    readings = []\n",
    "\n",
    "    for i in range(0, len(lines), 3):\n",
    "        gas = float(re.search(r\"Gas Resistance:\\s*([\\d.]+)\", lines[i]).group(1))\n",
    "        temp = float(re.search(r\"Temperature:\\s*([\\d.]+)\", lines[i+1]).group(1))\n",
    "        humidity = float(re.search(r\"Humidity:\\s*([\\d.]+)\", lines[i+2]).group(1))\n",
    "\n",
    "        readings.append({\n",
    "            \"sensor_id\": sensor_id,\n",
    "            \"timestamp\": start_time + i//3 * delta_t,\n",
    "            \"gas\": gas,\n",
    "            \"temp\": temp,\n",
    "            \"humidity\": humidity,\n",
    "            \"x\": coord[0],\n",
    "            \"y\": coord[1]\n",
    "        })\n",
    "    print(readings[:3])\n"
   ]
  },
  {
   "cell_type": "code",
   "execution_count": null,
   "metadata": {},
   "outputs": [],
   "source": []
  }
 ],
 "metadata": {
  "kernelspec": {
   "display_name": ".venv",
   "language": "python",
   "name": "python3"
  },
  "language_info": {
   "codemirror_mode": {
    "name": "ipython",
    "version": 3
   },
   "file_extension": ".py",
   "mimetype": "text/x-python",
   "name": "python",
   "nbconvert_exporter": "python",
   "pygments_lexer": "ipython3",
   "version": "3.13.1"
  }
 },
 "nbformat": 4,
 "nbformat_minor": 2
}
